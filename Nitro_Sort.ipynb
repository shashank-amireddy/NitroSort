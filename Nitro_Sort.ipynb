{
  "nbformat": 4,
  "nbformat_minor": 0,
  "metadata": {
    "colab": {
      "provenance": []
    },
    "kernelspec": {
      "name": "python3",
      "display_name": "Python 3"
    },
    "language_info": {
      "name": "python"
    }
  },
  "cells": [
    {
      "cell_type": "code",
      "source": [
        "!pip install queuelib"
      ],
      "metadata": {
        "colab": {
          "base_uri": "https://localhost:8080/"
        },
        "id": "wYqUzyY-ljF2",
        "outputId": "8a007c79-c921-46bb-a38b-e4fcecf708d9"
      },
      "execution_count": null,
      "outputs": [
        {
          "output_type": "stream",
          "name": "stdout",
          "text": [
            "Looking in indexes: https://pypi.org/simple, https://us-python.pkg.dev/colab-wheels/public/simple/\n",
            "Collecting queuelib\n",
            "  Downloading queuelib-1.6.2-py2.py3-none-any.whl (13 kB)\n",
            "Installing collected packages: queuelib\n",
            "Successfully installed queuelib-1.6.2\n"
          ]
        }
      ]
    },
    {
      "cell_type": "code",
      "source": [],
      "metadata": {
        "id": "JX3k8SP1FwmJ"
      },
      "execution_count": null,
      "outputs": []
    },
    {
      "cell_type": "code",
      "execution_count": 2,
      "metadata": {
        "id": "Rp7oCCz_k6iA",
        "colab": {
          "base_uri": "https://localhost:8080/"
        },
        "outputId": "cb18a7f1-8653-4397-e813-765c30094a0a"
      },
      "outputs": [
        {
          "output_type": "stream",
          "name": "stdout",
          "text": [
            "list sort: True\n",
            "Execution time for list_sort: 0.026519298553466797\n"
          ]
        }
      ],
      "source": [
        "import heapq\n",
        "import math\n",
        "import random\n",
        "from queue import PriorityQueue\n",
        "\n",
        "class node:\n",
        "  def __init__(self,data=None):\n",
        "    self.data = data\n",
        "    self.next = None\n",
        "\n",
        "\n",
        "\n",
        "class ll:\n",
        "  def __init__(self,head,tail):\n",
        "    self.head = head\n",
        "    self.tail = tail\n",
        "    self.length = self.length()\n",
        "\n",
        "\n",
        "  def length(self):\n",
        "    count = 0\n",
        "    temp = self.head\n",
        "    while temp!=None:\n",
        "      count += 1\n",
        "      temp = temp.next\n",
        "    return count\n",
        "\n",
        "\n",
        "\n",
        "  def nitro_sort(self):     # 2N^2 + N\n",
        "    array_of_ll = [] #1\n",
        "    number_of_ll_premit = self.lists_number(self.length) #1\n",
        "    temp = self.head #1\n",
        "    while (temp!= None):\n",
        "      if number_of_ll_premit == len(array_of_ll):\n",
        "        _te = []\n",
        "        __t = self.merge(array_of_ll)\n",
        "        _te.append(ll(__t,__t))\n",
        "        array_of_ll = _te\n",
        "      else:\n",
        "        if len(array_of_ll) == 0:\n",
        "          node1 = node(temp.data)\n",
        "          array_of_ll.append(ll(node1,node1))\n",
        "        else:\n",
        "          flag = 0\n",
        "          for i in range(len(array_of_ll)):\n",
        "            if array_of_ll[i].head.data > temp.data:\n",
        "              flag = 1\n",
        "              _temp = node(temp.data)\n",
        "              _temp2 = array_of_ll[i].head\n",
        "              _temp.next = _temp2\n",
        "              array_of_ll[i].head = _temp\n",
        "              break\n",
        "            elif array_of_ll[i].tail.data < temp.data:\n",
        "              flag = 1\n",
        "              _temp = node(temp.data)\n",
        "              array_of_ll[i].tail.next = _temp\n",
        "              array_of_ll[i].tail = _temp\n",
        "              break\n",
        "\n",
        "          if not flag:\n",
        "            node1 = node(temp.data)\n",
        "            array_of_ll.append(ll(node1,node1))\n",
        "      temp = temp.next\n",
        "\n",
        "    return self.merge(array_of_ll)\n",
        "\n",
        "\n",
        "\n",
        "\n",
        "\n",
        "  def merge(self, lists):  # O(NlogK) N is number of nodes and k is number of lists\n",
        "    heap = []\n",
        "    for i, l in enumerate(lists):\n",
        "        if l:\n",
        "            heapq.heappush(heap, (l.head.data, i, l))  # Push (data, list_index, ll object) tuple\n",
        "\n",
        "    dummy = node(0)\n",
        "    curr = dummy\n",
        "\n",
        "    while heap:\n",
        "        val, idx, ll_obj = heapq.heappop(heap)\n",
        "        curr.next = ll_obj.head\n",
        "        curr = curr.next\n",
        "        if ll_obj.head.next:\n",
        "            ll_obj.head = ll_obj.head.next  # Update head of ll object\n",
        "            heapq.heappush(heap, (ll_obj.head.data, idx, ll_obj))\n",
        "\n",
        "    return dummy.next\n",
        "\n",
        "\n",
        "\n",
        "  def lists_number(self,length): # 3\n",
        "\n",
        "    tt = (length/10000)\n",
        "    if tt <= 1:\n",
        "      number_of_lists = 100\n",
        "      return math.ceil(number_of_lists)\n",
        "    elif tt - 10 <= 1:\n",
        "      number_of_lists = tt * 6\n",
        "      return math.ceil(number_of_lists)\n",
        "    elif tt - 50 <= 1:\n",
        "      number_of_lists = 60 + (tt - 10) * 3\n",
        "      return math.ceil(number_of_lists)\n",
        "    elif tt - 100 <= 1:\n",
        "      number_of_lists = 200 + (tt - 50) * 1\n",
        "      return math.ceil(number_of_lists)\n",
        "    elif tt - 500 <= 1:\n",
        "      number_of_lists = 300 + (tt - 100) * 0.45\n",
        "      return math.ceil(number_of_lists)\n",
        "    elif tt - 1000 <= 1:\n",
        "      number_of_lists = 400 + (tt - 500) * 0.5\n",
        "      return math.ceil(number_of_lists)\n",
        "    elif tt - 10000 <= 1:\n",
        "      number_of_lists = 475 + (tt - 1000) * 0.4\n",
        "      return math.ceil(number_of_lists)\n",
        "    else:\n",
        "      number_of_lists = 10000\n",
        "      return math.ceil(number_of_lists)\n",
        "\n",
        "def is_sorted(head):\n",
        "    current = head\n",
        "    while current.next:\n",
        "        if current.data > current.next.data:\n",
        "            return False\n",
        "        current = current.next\n",
        "    return True\n",
        "\n",
        "SIZES = [10000]\n",
        "for i in SIZES:\n",
        "  tail = node(random.randint(0,10000))\n",
        "  head = tail\n",
        "  for j in range(i):\n",
        "    tail.next = node(random.randint(0,10000))\n",
        "    tail = tail.next\n",
        "\n",
        "import time\n",
        "\n",
        "list_ = ll(head, tail)\n",
        "\n",
        "start_time = time.time()\n",
        "temp = list_.nitro_sort()\n",
        "end_time = time.time()\n",
        "print(\"list sort:\", is_sorted(temp))\n",
        "print(\"Execution time for list_sort:\", end_time - start_time)\n",
        "\n"
      ]
    },
    {
      "cell_type": "code",
      "source": [
        "first = node(8)\n",
        "first.next = node(100)\n",
        "first.next.next = node(10)\n",
        "first.next.next.next = node(15)\n",
        "first.next.next.next.next = node(9)\n",
        "first.next.next.next.next.next = node(4)\n",
        "tail = node(1)\n",
        "first.next.next.next.next.next.next = tail\n",
        "\n",
        "list_ = ll(first,tail)"
      ],
      "metadata": {
        "id": "eSnHVg0plLSm"
      },
      "execution_count": 3,
      "outputs": []
    },
    {
      "cell_type": "code",
      "source": [],
      "metadata": {
        "id": "FzhrtA6gwPqq"
      },
      "execution_count": null,
      "outputs": []
    }
  ]
}